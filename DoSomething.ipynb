{
 "cells": [
  {
   "cell_type": "code",
   "execution_count": null,
   "metadata": {},
   "outputs": [],
   "source": [
    "def main():\n",
    "    name = input(\"What is your name\")\n"
    "    key = input(\"Enter a number between 0 and 26\")\n"
    "    print(shift(name, key))\n"
    "\n",
    "#Shift() should work for all n's < 26\n",
    "def shift(phrase, n): #This function will take a string and shift each of its letters by n places - known as caeser cypher\n",
    "    encryptedPhrase = \"\" #This will hold the the values after the phrase is shifted\n",
    "    \n",
    "    for char in phrase: #This will loop through each char and shift it by n spaces then save it into encryptedPhrase\n",
    "        if char.isalpha():\n",
    "            newChar = ord(char)+n #This is the newly shifted character\n",
    "            \n",
    "            if not chr(newChar).isalpha(): #This would be an overflow such as 'z'+1, it must loop back on itself z->a\n",
    "                newChar-=26 #This \n",
    "            encryptedPhrase += chr(newChar)\n",
    "        else: #This is all other characters that were not alphabetic characters (special characters) that can be inserted directly\n",
    "           encryptedPhrase += char\n",
    "    \n",
    "    return encryptedPhrase"
   ]
  }
 ],
 "metadata": {
  "kernelspec": {
   "display_name": "Python 3.7",
   "language": "python",
   "name": "python3"
  },
  "language_info": {
   "codemirror_mode": {
    "name": "ipython",
    "version": 3
   },
   "file_extension": ".py",
   "mimetype": "text/x-python",
   "name": "python",
   "nbconvert_exporter": "python",
   "pygments_lexer": "ipython3",
   "version": "3.7.0"
  }
 },
 "nbformat": 4,
 "nbformat_minor": 2
}
